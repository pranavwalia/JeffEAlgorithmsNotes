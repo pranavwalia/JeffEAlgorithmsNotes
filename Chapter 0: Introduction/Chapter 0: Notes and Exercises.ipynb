{
 "cells": [
  {
   "cell_type": "markdown",
   "metadata": {},
   "source": [
    "Notes: I skipped straight to exercises for this chapter as most of the content is pretty basic. Additionally, we have only included the solution to one question as we do not believe the questions are particularly applicable for common needs of studying algorithms: ie. interview prep, becoming a better software engineer"
   ]
  },
  {
   "cell_type": "markdown",
   "metadata": {},
   "source": [
    "## Exercises"
   ]
  },
  {
   "cell_type": "markdown",
   "metadata": {},
   "source": [
    "### Question 4\n",
    "Recall that the input to the Huntington-Hill algorithm ApportionCongress is an array Pop[1 .. n], where Pop[i] is the population of the ith state, and an integer R, the total number of representatives to be allotted. The output is an array Rep[1 .. n], where Rep[i] is the number of representatives allotted to the ith state by the algorithm.\n",
    "    \n",
    "The Huntington-Hill algorithm is sometimes described in a way that avoids the use of priority queues entirely. The top-level algorithm “guesses” a positive real number D, called the divisor, and then runs the following subroutine to compute an apportionment. The variable q is the ideal quota of representatives    allocated to a state for the given divisor D; the actual number of representatives allocated is always either ⌈q⌉ or ⌊q⌋.\n",
    "\n",
    "There are three possibilities for the final return value reps. If reps < R, we did not allocate enough representatives, which (at least intuitively) means our divisor D was too small. If reps > R, we allocated too many representatives, which (at least intuitively) means our divisor D was too large. Finally, if reps = R, we can return the array Rep[1 .. n] as the final apportionment. In practice, we can compute a valid apportionment (with reps = R) by calling HHGuess with a small number of integer divisors close to the standard divisor D = P/R.\n",
    "In the following problems, let P = 􏰕ni=1 Pop[i] denote the total popula- tion of all n states, and assume that n ≤ R ≤ P."
   ]
  },
  {
   "cell_type": "code",
   "execution_count": 4,
   "metadata": {},
   "outputs": [
    {
     "name": "stdout",
     "output_type": "stream",
     "text": [
      "Sample Output\n",
      "[6, 6, 7]\n",
      "19\n"
     ]
    }
   ],
   "source": [
    "import math\n",
    "#Returns the total number of representatives allocated to an array of populations for particular states\n",
    "#A finite number of reps 'R' is alloted\n",
    "#A valid allocation is one where the result of the function = R\n",
    "def HHGuess(pop, R, D):\n",
    "    reps = 0\n",
    "    Rep = pop.copy()\n",
    "    n = len(pop)\n",
    "    for i in range(0,n):\n",
    "        q = pop[i]/D\n",
    "        if q * q < math.ceil(q) * math.floor(q):\n",
    "            Rep[i] = math.floor(q)\n",
    "        else:\n",
    "            Rep[i] = math.ceil(q)\n",
    "        reps = reps + Rep[i]\n",
    "    print(Rep)\n",
    "    return reps\n",
    "\n",
    "print(\"Sample Output\")\n",
    "print(HHGuess([11,12,13], 10, 2.0))"
   ]
  },
  {
   "cell_type": "markdown",
   "metadata": {},
   "source": [
    "**(a)** Show that calling HHGuess with the standard divisor D = P/R does not necessarily yield a valid apportionment."
   ]
  },
  {
   "cell_type": "markdown",
   "metadata": {},
   "source": [
    "**Solution:** \n",
    "\n",
    "We need to only show one counter example where the output of HHGuess $\\neq$ R\n",
    "\n",
    "given input Pop = [11,12,13], R = 10, D = 2.3, HHGuess = 16 $\\neq$ R "
   ]
  },
  {
   "cell_type": "markdown",
   "metadata": {},
   "source": [
    "**(b)** Prove that if HHGuess returns the same value of reps for two different divisors D and D′, it also computes the same allocation Rep[1..n] for both of those divisors."
   ]
  },
  {
   "cell_type": "markdown",
   "metadata": {},
   "source": [
    "**Solution:**\n",
    "Note: HHGuess returns the sum of the array Reps.\n",
    "\n",
    "Prove: $ [HHGuess(Pop, R, D) = HHGuess(Pop, R, D')] \\implies Reps_D = Reps_{D'}\\$\n",
    "\n",
    "Proof by Contradiction: \n",
    "\n",
    "1. Assume $[HHGuess(Pop, R, D) = HHGuess(Pop, R, D')] \\implies \\neg(Reps_D = Reps_{D'})$\n",
    "\n",
    "\n",
    "2. Therefore: $\\exists \\space {i} \\in Reps_D[1...n] \\land \\exists \\space {i} \\in Reps_{D'}[1...n]$ such that $Reps_D[i] \\neq Reps_{D'}[i]$\n",
    "\n",
    "\n",
    "3. let the real number $k \\impliedby Reps_D[i] - Reps_{D'}[i]$\n",
    "    * In other words $Reps_D[i] = Reps_{D'}[i] + k$\n",
    "\n",
    "\n",
    "4. In order for $[HHGuess(Pop, R, D) = HHGuess(Pop, R, D')] \\equiv True$,\n",
    "    * $\\exists \\space j \\in Reps_D[1..n]$ such that $j \\neq i \\land Reps_D[j] = Reps_{D'}[j] - k$\n",
    "        * To account for the difference observed in 3 and make sure the sums of Reps are equal\n",
    "        \n",
    "\n",
    "5. ${Let} \\space {q_1} \\impliedby \\frac{Pop[i]}{D}$\n",
    "\n",
    "\n",
    "6. ${Let} \\space {q_2} \\impliedby \\frac{Pop[i]}{D'}$\n",
    "\n",
    "\n",
    "    \n",
    "7. Case 1: $Reps_D[i] > Reps_{D'}[i] \\implies k > 0 $\n",
    "    * $\\implies Reps_D[j] < Reps_{D'}[j]$ (by 3,4) and $D' \\neq D$\n",
    "    * Case 1.1: ${q_1}^2 < \\lfloor{q_1}\\rfloor \\cdot \\lceil{q_1}\\rceil \\land  {q_2}^2 < \\lfloor{q_2}\\rfloor \\cdot \\lceil{q_2}\\rceil$\n",
    "        * $\\implies Reps_D[i] = \\lfloor q_1 \\rfloor \\land Reps_D'[i] = \\lfloor q_2 \\rfloor \\land \\lfloor{q_1}\\rfloor >  \\lfloor{q_2}\\rfloor$ Thus, $D' > D \\land k \\geq 1$ (5,6,7, Laws of Division, def HHGuess)\n",
    "        * $D' > D \\implies (\\frac{Pop[j]}{D} > \\frac{Pop[j]}{D'}) \\land \\neg(\\lfloor \\frac{Pop[j]}{D} \\rfloor < \\lfloor \\frac{Pop[j]}{D'} \\rfloor) \\land \\neg(\\lceil \\frac{Pop[j]}{D} \\rceil < \\lceil \\frac{Pop[j]}{D'} \\rceil) \\land  \\neg(\\lceil \\frac{Pop[j]}{D} \\rceil < \\lfloor \\frac{Pop[j]}{D'} \\rfloor)$ (laws of division, def HHGuess)\n",
    "        * let $m \\impliedby  (\\frac{Pop[j]}{D} - \\frac{Pop[j]}{D'})$\n",
    "        * $Reps_D[j] < Reps_{D'}[j]$ can only be true if $(\\frac{Pop[j]}{D} > \\frac{Pop[j]}{D'}) \\land (\\lfloor \\frac{Pop[j]}{D} \\rfloor < \\lceil \\frac{Pop[j]}{D'}\\rceil) \\land (0 < m < 1)$\n",
    "        \n",
    "        * Contradiction! If $\\frac{Pop[j]}{D'}$ is less than $\\frac{Pop[j]}{D}$ which is floored, it can never be ceil'd! (Definition of HHGuess)\n",
    "        \n",
    "    * Case 1.2: ${q_1}^2 < \\lfloor{q_1}\\rfloor \\cdot \\lceil{q_1}\\rceil \\land  {q_2}^2 \n",
    "    \\geq \\lfloor{q_2}\\rfloor \\cdot \\lceil{q_2}\\rceil$\n",
    "    \n",
    "    * Case 1.3: ${q_1}^2 \\geq \\lfloor{q_1}\\rfloor \\cdot \\lceil{q_1}\\rceil \\land  {q_2}^2 \n",
    "    < \\lfloor{q_2}\\rfloor \\cdot \\lceil{q_2}\\rceil$\n",
    "    \n",
    "    * Case 1.4: ${q_1}^2 \\geq \\lfloor{q_1}\\rfloor \\cdot \\lceil{q_1}\\rceil \\land  {q_2}^2 \n",
    "    \\geq \\lfloor{q_2}\\rfloor \\cdot \\lceil{q_2}\\rceil$\n",
    "    \n",
    "    \n",
    "8. Case 2: $Reps_D[i] < Reps_{D'}[i] \\implies k < 0$\n",
    "    * $\\implies Reps_D[j] > Reps_{D'}[j]$ (by 3,4) and $D' \\neq D$\n",
    "          \n",
    "    * Case 2.1: ${q_1}^2 < \\lfloor{q_1}\\rfloor \\cdot \\lceil{q_1}\\rceil \\land  {q_2}^2 < \\lfloor{q_2}\\rfloor \\cdot \\lceil{q_2}\\rceil$\n",
    "    \n",
    "    * Case 2.2: ${q_1}^2 < \\lfloor{q_1}\\rfloor \\cdot \\lceil{q_1}\\rceil \\land  {q_2}^2 \n",
    "    \\geq \\lfloor{q_2}\\rfloor \\cdot \\lceil{q_2}\\rceil$\n",
    "    \n",
    "    * Case 2.3: ${q_1}^2 \\geq \\lfloor{q_1}\\rfloor \\cdot \\lceil{q_1}\\rceil \\land  {q_2}^2 \n",
    "    < \\lfloor{q_2}\\rfloor \\cdot \\lceil{q_2}\\rceil$\n",
    "    \n",
    "    * Case 2.4: ${q_1}^2 \\geq \\lfloor{q_1}\\rfloor \\cdot \\lceil{q_1}\\rceil \\land  {q_2}^2 \n",
    "    \\geq \\lfloor{q_2}\\rfloor \\cdot \\lceil{q_2}\\rceil$\n",
    "\n",
    "    \n"
   ]
  },
  {
   "cell_type": "markdown",
   "metadata": {},
   "source": [
    "**(c)** Prove that if HHGuess returns the correct value R, it computes the same allocation Rep[1 .. n] as our earlier algorithm ApportionCongress.\n",
    "(see page 9 of textbook)"
   ]
  },
  {
   "cell_type": "markdown",
   "metadata": {},
   "source": []
  },
  {
   "cell_type": "markdown",
   "metadata": {},
   "source": [
    "**(d)** Prove that a “correct” divisor D does not necessarily exist! That is, describe inputs Pop[1 .. n] and R, where n ≤ R ≤ P , such that for every real number D > 0, the number of representatives allocated by HHGuess is not equal to R. [Hint: What happens if we change < to ≤ in the fourth line of HHGuess?]"
   ]
  },
  {
   "cell_type": "code",
   "execution_count": null,
   "metadata": {},
   "outputs": [],
   "source": []
  }
 ],
 "metadata": {
  "kernelspec": {
   "display_name": "Python 3",
   "language": "python",
   "name": "python3"
  },
  "language_info": {
   "codemirror_mode": {
    "name": "ipython",
    "version": 3
   },
   "file_extension": ".py",
   "mimetype": "text/x-python",
   "name": "python",
   "nbconvert_exporter": "python",
   "pygments_lexer": "ipython3",
   "version": "3.7.6"
  }
 },
 "nbformat": 4,
 "nbformat_minor": 4
}
