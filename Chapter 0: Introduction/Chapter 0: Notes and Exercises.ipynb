{
 "cells": [
  {
   "cell_type": "markdown",
   "metadata": {},
   "source": [
    "## Exercises"
   ]
  },
  {
   "cell_type": "markdown",
   "metadata": {},
   "source": [
    "### Question 4\n",
    "Recall that the input to the Huntington-Hill algorithm ApportionCongress is an array Pop[1 .. n], where Pop[i] is the population of the ith state, and an integer R, the total number of representatives to be allotted. The output is an array Rep[1 .. n], where Rep[i] is the number of representatives allotted to the ith state by the algorithm.\n",
    "    \n",
    "The Huntington-Hill algorithm is sometimes described in a way that avoids the use of priority queues entirely. The top-level algorithm “guesses” a positive real number D, called the divisor, and then runs the following subroutine to compute an apportionment. The variable q is the ideal quota of representatives    allocated to a state for the given divisor D; the actual number of representatives allocated is always either ⌈q⌉ or ⌊q⌋."
   ]
  },
  {
   "cell_type": "code",
   "execution_count": 16,
   "metadata": {},
   "outputs": [
    {
     "name": "stdout",
     "output_type": "stream",
     "text": [
      "Sample Output\n",
      "[5, 5, 6]\n",
      "16\n"
     ]
    }
   ],
   "source": [
    "import math\n",
    "def HHGuess(pop, R, D):\n",
    "    reps = 0\n",
    "    Rep = pop.copy()\n",
    "    n = len(pop)\n",
    "    for i in range(0,n):\n",
    "        q = pop[i]/D\n",
    "        if q * q < math.ceil(q) * math.floor(q):\n",
    "            Rep[i] = math.floor(q)\n",
    "        else:\n",
    "            Rep[i] = math.ceil(q)\n",
    "        reps = reps + Rep[i]\n",
    "    print(Rep)\n",
    "    return reps\n",
    "\n",
    "print(\"Sample Output\")\n",
    "print(HHGuess([11,12,13], 1, 2.3))"
   ]
  },
  {
   "cell_type": "markdown",
   "metadata": {},
   "source": [
    "(a) Show that calling HHGuess with the standard divisor D = P/R does not necessarily yield a valid apportionment."
   ]
  },
  {
   "cell_type": "markdown",
   "metadata": {},
   "source": [
    "(b) Prove that if HHGuess returns the same value of reps for two different divisors D and D′, it also computes the same allocation Rep[1..n] for both of those divisors."
   ]
  },
  {
   "cell_type": "markdown",
   "metadata": {},
   "source": [
    "(c) Prove that if HHGuess returns the correct value R, it computes the same allocation Rep[1 .. n] as our earlier algorithm ApportionCongress.\n"
   ]
  },
  {
   "cell_type": "markdown",
   "metadata": {},
   "source": [
    "(d) Prove that a “correct” divisor D does not necessarily exist! That is, describe inputs Pop[1 .. n] and R, where n ≤ R ≤ P , such that for every real number D > 0, the number of representatives allocated by HHGuess is not equal to R. [Hint: What happens if we change < to ≤ in the fourth line of HHGuess?]"
   ]
  },
  {
   "cell_type": "code",
   "execution_count": null,
   "metadata": {},
   "outputs": [],
   "source": []
  }
 ],
 "metadata": {
  "kernelspec": {
   "display_name": "Python 3",
   "language": "python",
   "name": "python3"
  },
  "language_info": {
   "codemirror_mode": {
    "name": "ipython",
    "version": 3
   },
   "file_extension": ".py",
   "mimetype": "text/x-python",
   "name": "python",
   "nbconvert_exporter": "python",
   "pygments_lexer": "ipython3",
   "version": "3.7.6"
  }
 },
 "nbformat": 4,
 "nbformat_minor": 4
}
