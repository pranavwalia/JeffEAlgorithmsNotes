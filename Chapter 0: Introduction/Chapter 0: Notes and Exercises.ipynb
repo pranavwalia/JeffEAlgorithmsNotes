{
 "cells": [
  {
   "cell_type": "markdown",
   "metadata": {},
   "source": [
    "Notes: I skipped straight to exercises for this chapter as most of the content is pretty basic. Additionally, we have only included the solution to one question as we do not believe the questions are particularly applicable for common needs of studying algorithms: ie. interview prep, becoming a better software engineer"
   ]
  },
  {
   "cell_type": "markdown",
   "metadata": {},
   "source": [
    "## Exercises"
   ]
  },
  {
   "cell_type": "markdown",
   "metadata": {},
   "source": [
    "### Question 4\n",
    "Recall that the input to the Huntington-Hill algorithm ApportionCongress is an array Pop[1 .. n], where Pop[i] is the population of the ith state, and an integer R, the total number of representatives to be allotted. The output is an array Rep[1 .. n], where Rep[i] is the number of representatives allotted to the ith state by the algorithm.\n",
    "    \n",
    "The Huntington-Hill algorithm is sometimes described in a way that avoids the use of priority queues entirely. The top-level algorithm “guesses” a positive real number D, called the divisor, and then runs the following subroutine to compute an apportionment. The variable q is the ideal quota of representatives    allocated to a state for the given divisor D; the actual number of representatives allocated is always either ⌈q⌉ or ⌊q⌋."
   ]
  },
  {
   "cell_type": "code",
   "execution_count": 4,
   "metadata": {},
   "outputs": [
    {
     "name": "stdout",
     "output_type": "stream",
     "text": [
      "Sample Output\n",
      "[6, 6, 7]\n",
      "19\n"
     ]
    }
   ],
   "source": [
    "import math\n",
    "#Returns the total number of representatives allocated to an array of populations for particular states\n",
    "#A finite number of reps 'R' is alloted\n",
    "#A valid allocation is one where the result of the function = R\n",
    "def HHGuess(pop, R, D):\n",
    "    reps = 0\n",
    "    Rep = pop.copy()\n",
    "    n = len(pop)\n",
    "    for i in range(0,n):\n",
    "        q = pop[i]/D\n",
    "        if q * q < math.ceil(q) * math.floor(q):\n",
    "            Rep[i] = math.floor(q)\n",
    "        else:\n",
    "            Rep[i] = math.ceil(q)\n",
    "        reps = reps + Rep[i]\n",
    "    print(Rep)\n",
    "    return reps\n",
    "\n",
    "print(\"Sample Output\")\n",
    "print(HHGuess([11,12,13], 10, 2.0))"
   ]
  },
  {
   "cell_type": "markdown",
   "metadata": {},
   "source": [
    "**(a)** Show that calling HHGuess with the standard divisor D = P/R does not necessarily yield a valid apportionment."
   ]
  },
  {
   "cell_type": "markdown",
   "metadata": {},
   "source": [
    "**Solution:** \n",
    "\n",
    "We need to only show one counter example where the output of HHGuess $\\neq$ R\n",
    "\n",
    "given input Pop = [11,12,13], R = 10, D = 2.3, HHGuess = 16 $\\neq$ R "
   ]
  },
  {
   "cell_type": "markdown",
   "metadata": {},
   "source": [
    "**(b)** Prove that if HHGuess returns the same value of reps for two different divisors D and D′, it also computes the same allocation Rep[1..n] for both of those divisors."
   ]
  },
  {
   "cell_type": "markdown",
   "metadata": {},
   "source": [
    "**Solution:**\n",
    "Note: HHGuess returns the sum of the array Reps\n",
    "\n",
    "Prove: $ [HHGuess(Pop, R, D) = HHGuess(Pop, R, D')] \\implies Reps_D = Reps_{D'}\\$\n",
    "\n",
    "Proof by Contradiction: \n",
    "\n",
    "1. Assume $[HHGuess(Pop, R, D) = HHGuess(Pop, R, D')] \\implies \\neg(Reps_D = Reps_{D'})$\n",
    "\n",
    "\n",
    "2. Therefore: $\\exists \\space {i} \\in Reps_D[1...n] \\land \\exists \\space {i} \\in Reps_{D'}[1...n]$ such that $Reps_D[i] \\neq Reps_{D'}[i]$\n",
    "\n",
    "\n",
    "3. let the real number k be the difference of the two unequal quantities $k = Reps_D[i] - Reps_{D'}[i]$\n",
    "    * In other words $Reps_D[i] = Reps_{D'}[i] + k$\n",
    "\n",
    "\n",
    "4. In order for $[HHGuess(Pop, R, D) = HHGuess(Pop, R, D')] = True$,\n",
    "    * $\\exists \\space j \\in Reps_D[1..n]$ such that $j \\neq i \\land Reps_D[j] = Reps_{D'}[j] - k$\n",
    "        * To account for the difference observed in 3 and make sure the sums are equal\n",
    "    \n",
    "    \n",
    "5. Case 1: $Reps_D[i] > Reps_{D'}[i]$\n",
    "    * $\\implies Reps_D[j] < Reps_{D'}[j]$ (by 3,4) and $D' \\neq D$\n",
    "    \n",
    "    * For case 1 to be true, there must be a D' such that $\\lfloor(Pop[i]/D)\\rfloor > \\lfloor(Pop[i]/D')\\rfloor \\lor \\lceil(Pop[i]/D)\\rceil > \\lceil(Pop[i]/D')\\rceil$ (see definition of HHGuess)\n",
    "    \n",
    "        * for either of the above cases to be true, $D' > D$\n",
    "        * Contradiction! If D' is greater than D, there cannot exist a value such that $Reps_D[j] < Reps_{D'}[j]$ since $\\lfloor Pop[j]/D \\rfloor > \\lfloor Pop[j]/D' \\rfloor$ and $\\lceil Pop[j]/D \\rceil > \\lceil Pop[j]/D' \\rceil$ by laws of division\n",
    "    \n",
    "    \n",
    "6. Case 2: $Reps_D[i] < Reps_{D'}[i]$\n",
    "    * $\\implies Reps_D[j] > Reps_{D'}[j]$ (by 3,4) and $D' \\neq D$\n",
    "    * For case 2 to be true, there must be a D' such that $\\lfloor(Pop[i]/D)\\rfloor < \\lfloor(Pop[i]/D')\\rfloor \\lor \\lceil(Pop[i]/D)\\rceil < \\lceil(Pop[i]/D')\\rceil$ (see definition of HHGuess)\n",
    "    * for either of the above cases to be true, $D' < D$\n",
    "        * Contradiction! If D' is less than D, there cannot exist a value such that $Reps_D[j] > Reps_{D'}[j]$ since $\\lfloor Pop[j]/D \\rfloor < \\lfloor Pop[j]/D' \\rfloor$ and $\\lceil Pop[j]/D \\rceil < \\lceil Pop[j]/D' \\rceil$ by laws of division\n",
    "\n",
    "7. Q.E.D.\n",
    "    \n"
   ]
  },
  {
   "cell_type": "markdown",
   "metadata": {},
   "source": [
    "**(c)** Prove that if HHGuess returns the correct value R, it computes the same allocation Rep[1 .. n] as our earlier algorithm ApportionCongress.\n",
    "(see page 9 of textbook)"
   ]
  },
  {
   "cell_type": "markdown",
   "metadata": {},
   "source": []
  },
  {
   "cell_type": "markdown",
   "metadata": {},
   "source": [
    "**(d)** Prove that a “correct” divisor D does not necessarily exist! That is, describe inputs Pop[1 .. n] and R, where n ≤ R ≤ P , such that for every real number D > 0, the number of representatives allocated by HHGuess is not equal to R. [Hint: What happens if we change < to ≤ in the fourth line of HHGuess?]"
   ]
  },
  {
   "cell_type": "code",
   "execution_count": null,
   "metadata": {},
   "outputs": [],
   "source": []
  }
 ],
 "metadata": {
  "kernelspec": {
   "display_name": "Python 3",
   "language": "python",
   "name": "python3"
  },
  "language_info": {
   "codemirror_mode": {
    "name": "ipython",
    "version": 3
   },
   "file_extension": ".py",
   "mimetype": "text/x-python",
   "name": "python",
   "nbconvert_exporter": "python",
   "pygments_lexer": "ipython3",
   "version": "3.7.6"
  }
 },
 "nbformat": 4,
 "nbformat_minor": 4
}
